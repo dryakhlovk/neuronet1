{
 "cells": [
  {
   "cell_type": "code",
   "execution_count": 1,
   "id": "d9b60cfa",
   "metadata": {},
   "outputs": [],
   "source": [
    "from numpy import exp, array, random, dot"
   ]
  },
  {
   "cell_type": "markdown",
   "id": "747d588f",
   "metadata": {},
   "source": [
    "Обучающая выборка состоит из 4-х примеров. В каждом на входе три числа/нейрона, на выходе - одно."
   ]
  },
  {
   "cell_type": "code",
   "execution_count": 2,
   "id": "fa5cbefd",
   "metadata": {},
   "outputs": [],
   "source": [
    "training_set_inputs = array([[0, 0, 1], [1, 1, 1], [1, 0, 1], [0, 1, 1]])\n",
    "training_set_outputs = array([[0, 1, 1, 0]]).T\n",
    "random.seed(1)\n",
    "synaptic_weights = 2 * random.random((3, 1)) - 1\n",
    "for iteration in range(10000):\n",
    "  output = 1 / (1 + exp(-(dot(training_set_inputs, synaptic_weights))))\n",
    "  synaptic_weights += dot(training_set_inputs.T, (training_set_outputs - output) * output * (1-output))"
   ]
  },
  {
   "cell_type": "markdown",
   "id": "cef3b8e4",
   "metadata": {},
   "source": [
    "Выводит output для входящего массива [1, 0, 0]."
   ]
  },
  {
   "cell_type": "code",
   "execution_count": 3,
   "id": "3ba028d0",
   "metadata": {},
   "outputs": [
    {
     "name": "stdout",
     "output_type": "stream",
     "text": [
      "[0.99993704]\n"
     ]
    }
   ],
   "source": [
    "print (1 / (1 + exp(-(dot(array([1, 0, 0]), synaptic_weights)))))"
   ]
  }
 ],
 "metadata": {
  "kernelspec": {
   "display_name": "Python 3",
   "language": "python",
   "name": "python3"
  },
  "language_info": {
   "codemirror_mode": {
    "name": "ipython",
    "version": 3
   },
   "file_extension": ".py",
   "mimetype": "text/x-python",
   "name": "python",
   "nbconvert_exporter": "python",
   "pygments_lexer": "ipython3",
   "version": "3.8.8"
  }
 },
 "nbformat": 4,
 "nbformat_minor": 5
}
